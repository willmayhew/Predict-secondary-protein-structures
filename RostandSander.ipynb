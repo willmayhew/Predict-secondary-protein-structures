{
 "cells": [
  {
   "cell_type": "markdown",
   "metadata": {},
   "source": [
    "Use:\n",
    "    Multiple sequence alignments\n",
    "    Balanced training (33% proportion)\n",
    "    Structure context training\n",
    "    Jury of networks\n",
    "        Majority vote of a set of 12 different networks\n",
    "\n",
    "Cross-validated on 7 tests to get 3 state prediction of 69.7%"
   ]
  },
  {
   "cell_type": "code",
   "execution_count": 31,
   "metadata": {},
   "outputs": [],
   "source": [
    "def parse_data(file_path):\n",
    "    sequences, secondary_structures = [], []\n",
    "    parsing_sequences = False\n",
    "    with open(file_path, \"r\") as file:\n",
    "        sequence = \"\"\n",
    "        secondary_structure = \"\"\n",
    "        for line in file:\n",
    "            line = line.strip()\n",
    "            if line == \"<>\" and not parsing_sequences:\n",
    "                parsing_sequences = True\n",
    "            elif line == \"end\" or line == \"<end>\":\n",
    "                parsing_sequences = False\n",
    "                sequences.append(sequence)\n",
    "                secondary_structures.append(secondary_structure)\n",
    "                sequence = \"\"\n",
    "                secondary_structure = \"\"\n",
    "            elif parsing_sequences and line == \"<>\":\n",
    "                sequences.append(sequence)\n",
    "                secondary_structures.append(secondary_structure)\n",
    "                sequence = \"\"\n",
    "                secondary_structure = \"\"\n",
    "            elif parsing_sequences:\n",
    "                parts = line.split()\n",
    "                if len(parts) == 2:\n",
    "                    amino_acid, sec_structure = parts\n",
    "                    sequence += amino_acid\n",
    "                    secondary_structure += sec_structure\n",
    "    return sequences, secondary_structures"
   ]
  },
  {
   "cell_type": "code",
   "execution_count": 37,
   "metadata": {},
   "outputs": [],
   "source": [
    "def write_fasta(sequences, output_file):\n",
    "    with open(output_file, \"w\") as file:\n",
    "        for i, sequence in enumerate(sequences):\n",
    "            file.write(f\">Sequence_{i+1}\\n\")\n",
    "            file.write(f\"{sequence}\\n\")"
   ]
  },
  {
   "cell_type": "code",
   "execution_count": 39,
   "metadata": {},
   "outputs": [],
   "source": [
    "train_path = 'Q_and_s_data/protein-secondary-structure.train.txt'\n",
    "test_path = 'Q_and_s_data/protein-secondary-structure.test.txt'\n",
    "\n",
    "bruh_path = 'Q_and_s_data/test.txt'\n",
    "\n",
    "sequence_train, structure_train = parse_data(train_path)\n",
    "X_test, y_test = parse_data(test_path)\n",
    "\n",
    "write_fasta(sequence_train, \"lol.fasta\")"
   ]
  }
 ],
 "metadata": {
  "kernelspec": {
   "display_name": "Python 3",
   "language": "python",
   "name": "python3"
  },
  "language_info": {
   "codemirror_mode": {
    "name": "ipython",
    "version": 3
   },
   "file_extension": ".py",
   "mimetype": "text/x-python",
   "name": "python",
   "nbconvert_exporter": "python",
   "pygments_lexer": "ipython3",
   "version": "3.11.9"
  }
 },
 "nbformat": 4,
 "nbformat_minor": 2
}
